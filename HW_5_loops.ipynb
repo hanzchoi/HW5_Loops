{
 "cells": [
  {
   "cell_type": "markdown",
   "id": "7bff364b",
   "metadata": {},
   "source": [
    "1. Ask a user for their name and age. Ensure that they give letters for their name and numbers for their age. Then ensure that they give an age between 1 and 100, inclusive. Give them three chances for this, otherwise output a message: \"Unacceptable.\" If they're name and age are acceptable output the message: \"Acceptable\""
   ]
  },
  {
   "cell_type": "code",
   "execution_count": 18,
   "id": "5ce0ca28",
   "metadata": {},
   "outputs": [
    {
     "name": "stdout",
     "output_type": "stream",
     "text": [
      "Please give me your name: 90\n",
      "Please give me your age: i\n",
      "1\n",
      "Please give me your name again: bjj\n",
      "Please give me your age again: 9o\n",
      "2\n",
      "Please give me your name again: hkj\n",
      "Please give me your age again: oo\n",
      "Unacceptable\n"
     ]
    }
   ],
   "source": [
    "def name_check(name):\n",
    "    if name.isalpha():\n",
    "        return True\n",
    "    else:\n",
    "        return False\n",
    "\n",
    "def age_check(age):\n",
    "    if age.isnumeric():\n",
    "        age = int(age)\n",
    "        if (age >= 1) and (age <=100):\n",
    "            return True\n",
    "        else:\n",
    "            return False\n",
    "        \n",
    "\n",
    "\n",
    "name = input(\"Please give me your name: \")\n",
    "age = input(\"Please give me your age: \")\n",
    "\n",
    "counter = 1\n",
    "\n",
    "while(counter < 3):\n",
    "    print(counter)\n",
    "    if name_check(name) and age_check(age):\n",
    "        break\n",
    "    else:\n",
    "        counter += 1\n",
    "        name = input(\"Please give me your name again: \")\n",
    "        age = input(\"Please give me your age again: \")\n",
    "\n",
    "\n",
    "if counter<3:\n",
    "    print(\"Aceeptable\")\n",
    "else:\n",
    "    print(\"Unacceptable\")\n",
    "\n"
   ]
  },
  {
   "cell_type": "markdown",
   "id": "c4f29b6a",
   "metadata": {},
   "source": [
    "2. Extra Credit: Ask the user to create a password that is 8 or more characters, contains a number, an uppercase letter, a lowercase letter, and a special character. Tell them which issue they are having if it is not a valid password. Give them unlimited attempts to get it correct."
   ]
  },
  {
   "cell_type": "code",
   "execution_count": null,
   "id": "0b067c39",
   "metadata": {},
   "outputs": [],
   "source": []
  },
  {
   "cell_type": "markdown",
   "id": "e9e4f6e3",
   "metadata": {},
   "source": [
    "3. Use a for loop to output every number that has a 3 in it (such as 13, 33, etc) between 1 and 1000. Use a line (such as 3 | 13 | 23 | etc) to split it up"
   ]
  },
  {
   "cell_type": "code",
   "execution_count": 34,
   "id": "ec2efb6f",
   "metadata": {},
   "outputs": [
    {
     "name": "stdout",
     "output_type": "stream",
     "text": [
      "3 | 13 | 23 | 30 | 31 | 32 | 33 | 34 | 35 | 36 | 37 | 38 | 39 | 43 | 53 | 63 | 73 | 83 | 93 | 103 | 113 | 123 | 130 | 131 | 132 | 133 | 134 | 135 | 136 | 137 | 138 | 139 | 143 | 153 | 163 | 173 | 183 | 193 | 203 | 213 | 223 | 230 | 231 | 232 | 233 | 234 | 235 | 236 | 237 | 238 | 239 | 243 | 253 | 263 | 273 | 283 | 293 | 300 | 301 | 302 | 303 | 304 | 305 | 306 | 307 | 308 | 309 | 310 | 311 | 312 | 313 | 314 | 315 | 316 | 317 | 318 | 319 | 320 | 321 | 322 | 323 | 324 | 325 | 326 | 327 | 328 | 329 | 330 | 331 | 332 | 333 | 334 | 335 | 336 | 337 | 338 | 339 | 340 | 341 | 342 | 343 | 344 | 345 | 346 | 347 | 348 | 349 | 350 | 351 | 352 | 353 | 354 | 355 | 356 | 357 | 358 | 359 | 360 | 361 | 362 | 363 | 364 | 365 | 366 | 367 | 368 | 369 | 370 | 371 | 372 | 373 | 374 | 375 | 376 | 377 | 378 | 379 | 380 | 381 | 382 | 383 | 384 | 385 | 386 | 387 | 388 | 389 | 390 | 391 | 392 | 393 | 394 | 395 | 396 | 397 | 398 | 399 | 403 | 413 | 423 | 430 | 431 | 432 | 433 | 434 | 435 | 436 | 437 | 438 | 439 | 443 | 453 | 463 | 473 | 483 | 493 | 503 | 513 | 523 | 530 | 531 | 532 | 533 | 534 | 535 | 536 | 537 | 538 | 539 | 543 | 553 | 563 | 573 | 583 | 593 | 603 | 613 | 623 | 630 | 631 | 632 | 633 | 634 | 635 | 636 | 637 | 638 | 639 | 643 | 653 | 663 | 673 | 683 | 693 | 703 | 713 | 723 | 730 | 731 | 732 | 733 | 734 | 735 | 736 | 737 | 738 | 739 | 743 | 753 | 763 | 773 | 783 | 793 | 803 | 813 | 823 | 830 | 831 | 832 | 833 | 834 | 835 | 836 | 837 | 838 | 839 | 843 | 853 | 863 | 873 | 883 | 893 | 903 | 913 | 923 | 930 | 931 | 932 | 933 | 934 | 935 | 936 | 937 | 938 | 939 | 943 | 953 | 963 | 973 | 983 | 993 | "
     ]
    }
   ],
   "source": [
    "def contains_three(num):\n",
    "    while (num > 0):\n",
    "        if (num % 10 == 3):\n",
    "            break\n",
    "\n",
    "        num = num // 10\n",
    "    \n",
    "    return (num > 0)\n",
    "\n",
    "for i in range(1, 1000):\n",
    "    if i == 3 or contains_three(i):\n",
    "        print(i, end=\" | \")    \n",
    "    \n",
    "    \n"
   ]
  },
  {
   "cell_type": "markdown",
   "id": "b7b4e5b4",
   "metadata": {},
   "source": [
    "4. Use a while loop to output all the even numbers between 1 and 100 backwards, e.g. 100, 98, 96, etc."
   ]
  },
  {
   "cell_type": "code",
   "execution_count": 37,
   "id": "bf6af389",
   "metadata": {},
   "outputs": [
    {
     "name": "stdout",
     "output_type": "stream",
     "text": [
      "100\n",
      "98\n",
      "96\n",
      "94\n",
      "92\n",
      "90\n",
      "88\n",
      "86\n",
      "84\n",
      "82\n",
      "80\n",
      "78\n",
      "76\n",
      "74\n",
      "72\n",
      "70\n",
      "68\n",
      "66\n",
      "64\n",
      "62\n",
      "60\n",
      "58\n",
      "56\n",
      "54\n",
      "52\n",
      "50\n",
      "48\n",
      "46\n",
      "44\n",
      "42\n",
      "40\n",
      "38\n",
      "36\n",
      "34\n",
      "32\n",
      "30\n",
      "28\n",
      "26\n",
      "24\n",
      "22\n",
      "20\n",
      "18\n",
      "16\n",
      "14\n",
      "12\n",
      "10\n",
      "8\n",
      "6\n",
      "4\n",
      "2\n"
     ]
    }
   ],
   "source": [
    "counter = 100\n",
    "while counter > 0:\n",
    "    print(counter)\n",
    "    counter = counter-2"
   ]
  },
  {
   "cell_type": "markdown",
   "id": "1edc1841",
   "metadata": {},
   "source": [
    "5. Use a loop to output all the prime numbers between 100 and 1000 (use a bar in between, simiilar to question 3)."
   ]
  },
  {
   "cell_type": "code",
   "execution_count": null,
   "id": "46ca4f1e",
   "metadata": {},
   "outputs": [],
   "source": []
  },
  {
   "cell_type": "code",
   "execution_count": null,
   "id": "40871a2b",
   "metadata": {},
   "outputs": [],
   "source": [
    "age = int(input(\"please give me an even number\"))\n",
    "\n",
    "if num % 2 == 0:\n",
    "    print(\"even - acceptable\")\n",
    "else:\n",
    "    print(\"odd - not acceptable\")\n",
    "\n",
    "num = -1\n",
    "while num < 0 or num > 100:\n",
    "    num = int(input(\"Please give me a number between 1 and 100\\t\"))\n",
    "\n",
    "print(\"Thank you for giving me \", num)\n",
    "\n",
    "#isalnum()\n",
    "\n",
    "\n",
    "counter = 0\n",
    "age = -1\n",
    "accepted = True\n",
    "while age < 0 or age > 100:\n",
    "    counter = counter + 1\n",
    "    if counter > 3:\n",
    "        accepted = False\n",
    "        break\n",
    "\n",
    "    age = int(input(\"Please give me a number for your age\\t\"))"
   ]
  }
 ],
 "metadata": {
  "kernelspec": {
   "display_name": "Python 3 (ipykernel)",
   "language": "python",
   "name": "python3"
  },
  "language_info": {
   "codemirror_mode": {
    "name": "ipython",
    "version": 3
   },
   "file_extension": ".py",
   "mimetype": "text/x-python",
   "name": "python",
   "nbconvert_exporter": "python",
   "pygments_lexer": "ipython3",
   "version": "3.8.8"
  }
 },
 "nbformat": 4,
 "nbformat_minor": 5
}
